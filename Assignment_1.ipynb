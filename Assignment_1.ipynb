{
  "nbformat": 4,
  "nbformat_minor": 0,
  "metadata": {
    "colab": {
      "provenance": []
    },
    "kernelspec": {
      "name": "python3",
      "display_name": "Python 3"
    },
    "language_info": {
      "name": "python"
    }
  },
  "cells": [
    {
      "cell_type": "code",
      "execution_count": null,
      "metadata": {
        "id": "99H_Q4dvfAYi"
      },
      "outputs": [],
      "source": []
    },
    {
      "cell_type": "markdown",
      "source": [
        "#Theory Questions"
      ],
      "metadata": {
        "id": "l7hXmwaqfHKW"
      }
    },
    {
      "cell_type": "markdown",
      "source": [
        "# Q1. What is Python, and why is it popular?\n",
        "  \n",
        "\n",
        "* Python is a programming language that is easy to understand and write, making it a popular choice among developers and programmers.\n",
        "\n",
        "* It is popular because,\n",
        "\n",
        "1.   Easy to learn.\n",
        "2.   Versatile\n",
        "\n",
        "3.   Large and active community of developers.\n",
        "4.   Has an extensive standard library.\n",
        "5.Third party package for various domains.\n",
        "6.Integrated Development enviornment(IDE).\n",
        "\n",
        "\n",
        "\n",
        "\n",
        "   \n",
        "     \n",
        "\n",
        "\n",
        "\n",
        "\n",
        "\n",
        "\n",
        "\n"
      ],
      "metadata": {
        "id": "rMfvzIWfflok"
      }
    },
    {
      "cell_type": "markdown",
      "source": [
        "# Q2. What is an interpreter in Python?\n",
        "\n",
        "\n",
        "*   An interpreter in python is a program that reads and executes Python code line by line. It converts the code into machine-readble bytecode and then executes it.\n",
        "\n",
        "\n"
      ],
      "metadata": {
        "id": "ju9-ej2ZjFsw"
      }
    },
    {
      "cell_type": "markdown",
      "source": [
        "# Q3. What are pre-defined keywords in Python?\n",
        "\n",
        "*   Keywords are reserved words in Python that have special meanings and cannot be used as identifiers(varrible names, functions name, etc.).\n",
        "\n",
        "\n",
        "*   Examples of keywords: if, else, while, for, def, class, import,etc.\n",
        "\n",
        "\n",
        "\n",
        "\n",
        "\n"
      ],
      "metadata": {
        "id": "X8D2FhUPklye"
      }
    },
    {
      "cell_type": "markdown",
      "source": [
        "# Q4. Can keywords be used as variable names?\n",
        "\n",
        "*   Keywords define the language's syntax rules and structure, and they cannot be used as variable names.\n",
        "\n",
        "\n"
      ],
      "metadata": {
        "id": "5QPivdDnmAVM"
      }
    },
    {
      "cell_type": "markdown",
      "source": [
        "# Q5. What is mutability in Python?\n",
        "\n",
        "*   It is the ability of an object/container to change after it has been created.\n",
        "\n",
        "\n"
      ],
      "metadata": {
        "id": "gjSUIA8Smj6P"
      }
    },
    {
      "cell_type": "markdown",
      "source": [
        "# Q6. Why are lists mutable, but tuples are immutable?\n",
        "\n",
        "*   Lists mutable, but tuples are immuable because, tuples use parentheses, and lists use squre brackets. Thus the items in tuples can not be changed. So lists are mutable and tuples are immutable.\n",
        "\n",
        "\n"
      ],
      "metadata": {
        "id": "_wv1cIyxnwKe"
      }
    },
    {
      "cell_type": "markdown",
      "source": [
        "# Q7. 0 What is the difference between “==” and “is” operators in Python?\n",
        "\n",
        "*   \"==\" is known as comarison operator while \"is\" is known as identity operator.\n",
        "\n",
        "\n"
      ],
      "metadata": {
        "id": "odDXMEvvpMt_"
      }
    },
    {
      "cell_type": "markdown",
      "source": [
        "# Q8. What are logical operators in Python?\n",
        "\n",
        "*   Logical operators in Python are symbols or keywords that combine and modify Boolean values to produce a Boolean result. Logical operators are, \"and\",\"or\" and \"not\".\n",
        "\n",
        "\n"
      ],
      "metadata": {
        "id": "kdyTtgyTqLu6"
      }
    },
    {
      "cell_type": "markdown",
      "source": [
        "# Q9.  What is type casting in Python?\n",
        "\n",
        "*   Type casting, also referred to as type conversion, is the process of changing one data type to another in Python.\n",
        "\n"
      ],
      "metadata": {
        "id": "rqP7756crCL_"
      }
    },
    {
      "cell_type": "markdown",
      "source": [
        "# Q10. What is the difference between implicit and explicit type casting?\n",
        "\n",
        "*   The difference between implicit and explicit type casting is that implicit type casting is automatic, while explicit type casting requires the programmer to specify the desired type.\n",
        "\n",
        "\n"
      ],
      "metadata": {
        "id": "e_9ZRe6ktERd"
      }
    },
    {
      "cell_type": "markdown",
      "source": [
        "# Q11. What is the purpose of conditional statements in Python?\n",
        "\n",
        "*   The purpose of conditional statements in Python is to control the flow of a program by making decisions based on certain conditions. Conditional statements can help make code more efficient and easier to read.\n",
        "\n",
        "\n"
      ],
      "metadata": {
        "id": "-PwRCacktvhQ"
      }
    },
    {
      "cell_type": "markdown",
      "source": [
        "# Q12. How does the elif statement work?\n",
        "\n",
        "*   In Python, elif is short for \"else if\" and is used when the first if statement isn't true, and need to check for another condition.\n",
        "\n",
        "\n"
      ],
      "metadata": {
        "id": "LPpXVphLuTXa"
      }
    },
    {
      "cell_type": "markdown",
      "source": [
        "# Q13. What is the difference between for and while loops?\n",
        "\n",
        "*   \"For” loops are used for iterating over a sequence of elements, while “while” loops are used for executing code until a specified condition becomes False.\n",
        "\n",
        "\n"
      ],
      "metadata": {
        "id": "VMX_SuG-u911"
      }
    },
    {
      "cell_type": "markdown",
      "source": [
        "# Q14. Describe a scenario where a while loop is more suitable than a for loop.\n",
        "\n",
        "*   Use a for loop when we know the loop should execute n times. Use a while loop for reading a file into a variable. Use a while loop when asking for user input. Use a while loop when the increment value is nonstandard.\n",
        "\n",
        "\n"
      ],
      "metadata": {
        "id": "zZInJ-Bnvhq-"
      }
    },
    {
      "cell_type": "markdown",
      "source": [
        "# PRACTICAL QUESTIONS"
      ],
      "metadata": {
        "id": "uiLSf3GhwLzM"
      }
    },
    {
      "cell_type": "markdown",
      "source": [
        "# Q1.Write a Python program to print \"Hello, World!\"."
      ],
      "metadata": {
        "id": "Om_CcZXnwamb"
      }
    },
    {
      "cell_type": "code",
      "source": [
        "print(\"Hello,World!\")"
      ],
      "metadata": {
        "colab": {
          "base_uri": "https://localhost:8080/"
        },
        "id": "2lHU-7_fwtLf",
        "outputId": "3871440e-460a-4f5d-e11f-1e57c5f944da"
      },
      "execution_count": 1,
      "outputs": [
        {
          "output_type": "stream",
          "name": "stdout",
          "text": [
            "Hello,World!\n"
          ]
        }
      ]
    },
    {
      "cell_type": "markdown",
      "source": [
        "# Q2. Write a Python program that displays your name and age."
      ],
      "metadata": {
        "id": "97f0S6I5w8oH"
      }
    },
    {
      "cell_type": "code",
      "source": [
        "name= \"Debasish Chakraborty\"\n",
        "age= 29\n",
        "print(\"My name is {} and age is {}\". format(name,age))"
      ],
      "metadata": {
        "colab": {
          "base_uri": "https://localhost:8080/"
        },
        "id": "Ay37M9zyxDrZ",
        "outputId": "73937c74-2a35-414a-f020-310439e0c319"
      },
      "execution_count": 3,
      "outputs": [
        {
          "output_type": "stream",
          "name": "stdout",
          "text": [
            "My name is Debasish Chakraborty and age is 29\n"
          ]
        }
      ]
    },
    {
      "cell_type": "markdown",
      "source": [
        "# Q3.  Write code to print all the pre-defined keywords in Python using the keyword library"
      ],
      "metadata": {
        "id": "sx-rOZcbxkvL"
      }
    },
    {
      "cell_type": "code",
      "source": [
        "help(\"keywords\")"
      ],
      "metadata": {
        "colab": {
          "base_uri": "https://localhost:8080/"
        },
        "id": "bk4pl3fxxtCv",
        "outputId": "e6549dca-8ab4-4a4c-b45f-8ff5e3e8b7cf"
      },
      "execution_count": 5,
      "outputs": [
        {
          "output_type": "stream",
          "name": "stdout",
          "text": [
            "\n",
            "Here is a list of the Python keywords.  Enter any keyword to get more help.\n",
            "\n",
            "False               class               from                or\n",
            "None                continue            global              pass\n",
            "True                def                 if                  raise\n",
            "and                 del                 import              return\n",
            "as                  elif                in                  try\n",
            "assert              else                is                  while\n",
            "async               except              lambda              with\n",
            "await               finally             nonlocal            yield\n",
            "break               for                 not                 \n",
            "\n"
          ]
        }
      ]
    },
    {
      "cell_type": "markdown",
      "source": [
        "# Q4.  Write a program that checks if a given word is a Python keyword"
      ],
      "metadata": {
        "id": "ZYHw3zWrx1RY"
      }
    },
    {
      "cell_type": "code",
      "source": [
        "if 5>4:\n",
        "  print('True')\n",
        "# if is a python keyword, thus it is make a logic."
      ],
      "metadata": {
        "colab": {
          "base_uri": "https://localhost:8080/"
        },
        "id": "sFC5jRZYyDvt",
        "outputId": "bec831f0-a7a0-4269-cab4-bfbc833ac0d7"
      },
      "execution_count": 18,
      "outputs": [
        {
          "output_type": "stream",
          "name": "stdout",
          "text": [
            "True\n"
          ]
        }
      ]
    },
    {
      "cell_type": "markdown",
      "source": [
        "# Q5.  Create a list and tuple in Python, and demonstrate how attempting to change an element works differently for each."
      ],
      "metadata": {
        "id": "VUKi_a_s6afT"
      }
    },
    {
      "cell_type": "code",
      "source": [
        "a=[10,20,34,\"ajay\",\"suresh\"]\n",
        "type(a)"
      ],
      "metadata": {
        "colab": {
          "base_uri": "https://localhost:8080/"
        },
        "id": "E70DT-Ic6spZ",
        "outputId": "11e32293-3e89-4eda-ef5e-c484b8a63e9c"
      },
      "execution_count": 19,
      "outputs": [
        {
          "output_type": "execute_result",
          "data": {
            "text/plain": [
              "list"
            ]
          },
          "metadata": {},
          "execution_count": 19
        }
      ]
    },
    {
      "cell_type": "code",
      "source": [
        "a[1]=100\n",
        "a"
      ],
      "metadata": {
        "colab": {
          "base_uri": "https://localhost:8080/"
        },
        "id": "29xn5iDf7LnI",
        "outputId": "e6d7b184-1737-45bf-874e-e92132440ed9"
      },
      "execution_count": 20,
      "outputs": [
        {
          "output_type": "execute_result",
          "data": {
            "text/plain": [
              "[10, 100, 34, 'ajay', 'suresh']"
            ]
          },
          "metadata": {},
          "execution_count": 20
        }
      ]
    },
    {
      "cell_type": "code",
      "source": [
        "b=\"Ram\", \"amal\",3,2\n",
        "type(b)"
      ],
      "metadata": {
        "colab": {
          "base_uri": "https://localhost:8080/"
        },
        "id": "-RXtflw87c3K",
        "outputId": "7a34891e-3637-43a7-c7b8-a2e5d787c8dc"
      },
      "execution_count": 21,
      "outputs": [
        {
          "output_type": "execute_result",
          "data": {
            "text/plain": [
              "tuple"
            ]
          },
          "metadata": {},
          "execution_count": 21
        }
      ]
    },
    {
      "cell_type": "code",
      "source": [
        "b[2]=\"7\"\n",
        "# it can not be changed"
      ],
      "metadata": {
        "colab": {
          "base_uri": "https://localhost:8080/",
          "height": 141
        },
        "id": "oLdW7iVa7r67",
        "outputId": "614dfb42-ac66-4c32-941c-db7b4b7a1c6f"
      },
      "execution_count": 22,
      "outputs": [
        {
          "output_type": "error",
          "ename": "TypeError",
          "evalue": "'tuple' object does not support item assignment",
          "traceback": [
            "\u001b[0;31m---------------------------------------------------------------------------\u001b[0m",
            "\u001b[0;31mTypeError\u001b[0m                                 Traceback (most recent call last)",
            "\u001b[0;32m<ipython-input-22-d2ae1dada792>\u001b[0m in \u001b[0;36m<cell line: 1>\u001b[0;34m()\u001b[0m\n\u001b[0;32m----> 1\u001b[0;31m \u001b[0mb\u001b[0m\u001b[0;34m[\u001b[0m\u001b[0;36m2\u001b[0m\u001b[0;34m]\u001b[0m\u001b[0;34m=\u001b[0m\u001b[0;34m\"7\"\u001b[0m\u001b[0;34m\u001b[0m\u001b[0;34m\u001b[0m\u001b[0m\n\u001b[0m",
            "\u001b[0;31mTypeError\u001b[0m: 'tuple' object does not support item assignment"
          ]
        }
      ]
    },
    {
      "cell_type": "markdown",
      "source": [
        "# Q6. Write a function to demonstrate the behavior of mutable and immutable arguments."
      ],
      "metadata": {
        "id": "9hRlyTHZ8B6H"
      }
    },
    {
      "cell_type": "code",
      "source": [
        "a= [1,2,8,\"ajay\", \"Suresh\"]\n",
        "a"
      ],
      "metadata": {
        "colab": {
          "base_uri": "https://localhost:8080/"
        },
        "id": "ATYZlixb8L_v",
        "outputId": "ff8ef77c-096d-4da1-f725-fe6025bf90b9"
      },
      "execution_count": 23,
      "outputs": [
        {
          "output_type": "execute_result",
          "data": {
            "text/plain": [
              "[1, 2, 8, 'ajay', 'Suresh']"
            ]
          },
          "metadata": {},
          "execution_count": 23
        }
      ]
    },
    {
      "cell_type": "code",
      "source": [
        "a[3]= \"bijoy\"\n",
        "a\n",
        "#in this list ajay replaced with bijay so it is a mutable object."
      ],
      "metadata": {
        "colab": {
          "base_uri": "https://localhost:8080/"
        },
        "id": "4zg9Gke88qxG",
        "outputId": "8c547c7b-17a0-409b-dead-0a203b3f26f8"
      },
      "execution_count": 24,
      "outputs": [
        {
          "output_type": "execute_result",
          "data": {
            "text/plain": [
              "[1, 2, 8, 'bijoy', 'Suresh']"
            ]
          },
          "metadata": {},
          "execution_count": 24
        }
      ]
    },
    {
      "cell_type": "code",
      "source": [
        "b=\"Debasish\"\n",
        "b"
      ],
      "metadata": {
        "colab": {
          "base_uri": "https://localhost:8080/",
          "height": 36
        },
        "id": "8eTi93-r9EHP",
        "outputId": "c7fb0b14-ae93-4747-cee1-b566d2b48b3f"
      },
      "execution_count": 25,
      "outputs": [
        {
          "output_type": "execute_result",
          "data": {
            "text/plain": [
              "'Debasish'"
            ],
            "application/vnd.google.colaboratory.intrinsic+json": {
              "type": "string"
            }
          },
          "metadata": {},
          "execution_count": 25
        }
      ]
    },
    {
      "cell_type": "code",
      "source": [
        "b[0]"
      ],
      "metadata": {
        "colab": {
          "base_uri": "https://localhost:8080/",
          "height": 36
        },
        "id": "4Ckwv-ly9WM5",
        "outputId": "4e5b2e25-996f-48a5-bf2d-85a5c1a68f22"
      },
      "execution_count": 26,
      "outputs": [
        {
          "output_type": "execute_result",
          "data": {
            "text/plain": [
              "'D'"
            ],
            "application/vnd.google.colaboratory.intrinsic+json": {
              "type": "string"
            }
          },
          "metadata": {},
          "execution_count": 26
        }
      ]
    },
    {
      "cell_type": "code",
      "source": [
        "b[0]= \"c\"\n",
        "# it can not be changed so it is an immutable object."
      ],
      "metadata": {
        "colab": {
          "base_uri": "https://localhost:8080/",
          "height": 141
        },
        "id": "_kQNEBKK9dOe",
        "outputId": "ec9e4320-15cb-4d51-853d-4b4285d88dfa"
      },
      "execution_count": 27,
      "outputs": [
        {
          "output_type": "error",
          "ename": "TypeError",
          "evalue": "'str' object does not support item assignment",
          "traceback": [
            "\u001b[0;31m---------------------------------------------------------------------------\u001b[0m",
            "\u001b[0;31mTypeError\u001b[0m                                 Traceback (most recent call last)",
            "\u001b[0;32m<ipython-input-27-87f9c6bf420c>\u001b[0m in \u001b[0;36m<cell line: 1>\u001b[0;34m()\u001b[0m\n\u001b[0;32m----> 1\u001b[0;31m \u001b[0mb\u001b[0m\u001b[0;34m[\u001b[0m\u001b[0;36m0\u001b[0m\u001b[0;34m]\u001b[0m\u001b[0;34m=\u001b[0m \u001b[0;34m\"c\"\u001b[0m\u001b[0;34m\u001b[0m\u001b[0;34m\u001b[0m\u001b[0m\n\u001b[0m",
            "\u001b[0;31mTypeError\u001b[0m: 'str' object does not support item assignment"
          ]
        }
      ]
    },
    {
      "cell_type": "markdown",
      "source": [
        "# Q7.Write a function to demonstrate the behavior of mutable and immutable arguments"
      ],
      "metadata": {
        "id": "6dO-JmRn9t34"
      }
    },
    {
      "cell_type": "code",
      "source": [
        "a= [1,2,8,\"ajay\", \"Suresh\"]\n",
        "a"
      ],
      "metadata": {
        "colab": {
          "base_uri": "https://localhost:8080/"
        },
        "id": "aeTIaLoH94Bw",
        "outputId": "634f56a8-1f7c-4adf-8486-ed48b3646c94"
      },
      "execution_count": 28,
      "outputs": [
        {
          "output_type": "execute_result",
          "data": {
            "text/plain": [
              "[1, 2, 8, 'ajay', 'Suresh']"
            ]
          },
          "metadata": {},
          "execution_count": 28
        }
      ]
    },
    {
      "cell_type": "code",
      "source": [
        "a[3]= \"bijoy\"\n",
        "a\n",
        "#in this list ajay replaced with bijay so it is a mutable object."
      ],
      "metadata": {
        "colab": {
          "base_uri": "https://localhost:8080/"
        },
        "id": "rd2ZJ4bJ-GMI",
        "outputId": "e4b3296c-a1ed-4cf5-c30f-dbf0865a9cfe"
      },
      "execution_count": 29,
      "outputs": [
        {
          "output_type": "execute_result",
          "data": {
            "text/plain": [
              "[1, 2, 8, 'bijoy', 'Suresh']"
            ]
          },
          "metadata": {},
          "execution_count": 29
        }
      ]
    },
    {
      "cell_type": "code",
      "source": [
        "b=\"Debasish\"\n",
        "b"
      ],
      "metadata": {
        "colab": {
          "base_uri": "https://localhost:8080/",
          "height": 36
        },
        "id": "tkRaJeBG-LfI",
        "outputId": "542d8599-0177-4a8b-ca87-864c57ee6a17"
      },
      "execution_count": 30,
      "outputs": [
        {
          "output_type": "execute_result",
          "data": {
            "text/plain": [
              "'Debasish'"
            ],
            "application/vnd.google.colaboratory.intrinsic+json": {
              "type": "string"
            }
          },
          "metadata": {},
          "execution_count": 30
        }
      ]
    },
    {
      "cell_type": "code",
      "source": [
        "b[0]"
      ],
      "metadata": {
        "colab": {
          "base_uri": "https://localhost:8080/",
          "height": 36
        },
        "id": "-bvvaZQn-RAf",
        "outputId": "c9d5bc76-4901-45a7-e119-57017be38091"
      },
      "execution_count": 31,
      "outputs": [
        {
          "output_type": "execute_result",
          "data": {
            "text/plain": [
              "'D'"
            ],
            "application/vnd.google.colaboratory.intrinsic+json": {
              "type": "string"
            }
          },
          "metadata": {},
          "execution_count": 31
        }
      ]
    },
    {
      "cell_type": "code",
      "source": [
        "b[0]= \"c\"\n",
        "# it can not be changed so it is an immutable object."
      ],
      "metadata": {
        "colab": {
          "base_uri": "https://localhost:8080/",
          "height": 158
        },
        "id": "32NL45Qo-aOA",
        "outputId": "87136c00-bee2-4d80-e210-6c77b661d5d9"
      },
      "execution_count": 32,
      "outputs": [
        {
          "output_type": "error",
          "ename": "TypeError",
          "evalue": "'str' object does not support item assignment",
          "traceback": [
            "\u001b[0;31m---------------------------------------------------------------------------\u001b[0m",
            "\u001b[0;31mTypeError\u001b[0m                                 Traceback (most recent call last)",
            "\u001b[0;32m<ipython-input-32-ada6451815ea>\u001b[0m in \u001b[0;36m<cell line: 1>\u001b[0;34m()\u001b[0m\n\u001b[0;32m----> 1\u001b[0;31m \u001b[0mb\u001b[0m\u001b[0;34m[\u001b[0m\u001b[0;36m0\u001b[0m\u001b[0;34m]\u001b[0m\u001b[0;34m=\u001b[0m \u001b[0;34m\"c\"\u001b[0m\u001b[0;34m\u001b[0m\u001b[0;34m\u001b[0m\u001b[0m\n\u001b[0m\u001b[1;32m      2\u001b[0m \u001b[0;31m# it can not be changed so it is an immutable object.\u001b[0m\u001b[0;34m\u001b[0m\u001b[0;34m\u001b[0m\u001b[0m\n",
            "\u001b[0;31mTypeError\u001b[0m: 'str' object does not support item assignment"
          ]
        }
      ]
    },
    {
      "cell_type": "markdown",
      "source": [
        "# Q8.Write a program to demonstrate the use of logical operators"
      ],
      "metadata": {
        "id": "qnMH0mrx-fJS"
      }
    },
    {
      "cell_type": "code",
      "source": [
        "# use of \"and \" operator\n",
        "a=True\n",
        "b=False\n",
        "c=True\n",
        "a&b"
      ],
      "metadata": {
        "colab": {
          "base_uri": "https://localhost:8080/"
        },
        "id": "r7-INuzZ-oZE",
        "outputId": "22c3499d-90cc-4486-e2aa-c8d3eb35b5df"
      },
      "execution_count": 37,
      "outputs": [
        {
          "output_type": "execute_result",
          "data": {
            "text/plain": [
              "False"
            ]
          },
          "metadata": {},
          "execution_count": 37
        }
      ]
    },
    {
      "cell_type": "code",
      "source": [
        "a&c"
      ],
      "metadata": {
        "colab": {
          "base_uri": "https://localhost:8080/"
        },
        "id": "UFwF1J-5_Mmm",
        "outputId": "54b99202-3239-4f24-cb16-6443ac0a0dd8"
      },
      "execution_count": 38,
      "outputs": [
        {
          "output_type": "execute_result",
          "data": {
            "text/plain": [
              "True"
            ]
          },
          "metadata": {},
          "execution_count": 38
        }
      ]
    },
    {
      "cell_type": "code",
      "source": [
        "a|b"
      ],
      "metadata": {
        "colab": {
          "base_uri": "https://localhost:8080/"
        },
        "id": "u4jUwBmF_jUw",
        "outputId": "21bed571-5e48-45c9-ce0a-3f6d15e3b195"
      },
      "execution_count": 39,
      "outputs": [
        {
          "output_type": "execute_result",
          "data": {
            "text/plain": [
              "True"
            ]
          },
          "metadata": {},
          "execution_count": 39
        }
      ]
    },
    {
      "cell_type": "code",
      "source": [
        "a|c"
      ],
      "metadata": {
        "colab": {
          "base_uri": "https://localhost:8080/"
        },
        "id": "mgkV3Er7_nC-",
        "outputId": "00046f0c-6972-4926-a999-14a18af6a0d5"
      },
      "execution_count": 40,
      "outputs": [
        {
          "output_type": "execute_result",
          "data": {
            "text/plain": [
              "True"
            ]
          },
          "metadata": {},
          "execution_count": 40
        }
      ]
    },
    {
      "cell_type": "markdown",
      "source": [
        "# Q9. Write a Python program to convert user input from string to integer, float, and boolean types\n"
      ],
      "metadata": {
        "id": "dcISgGZO_rGq"
      }
    },
    {
      "cell_type": "code",
      "source": [
        "a=input(\"enter a no\")\n",
        "print(\"The no is\",a,type(a))"
      ],
      "metadata": {
        "colab": {
          "base_uri": "https://localhost:8080/"
        },
        "id": "o6ggOcxK_ygr",
        "outputId": "9ab2cdc4-fc9a-4991-f731-bacc4d97919c"
      },
      "execution_count": 41,
      "outputs": [
        {
          "output_type": "stream",
          "name": "stdout",
          "text": [
            "enter a no12\n",
            "The no is 12 <class 'str'>\n"
          ]
        }
      ]
    },
    {
      "cell_type": "code",
      "source": [
        "a=int(input(\"enter a no\"))\n",
        "print(\"The no is\",a,type(a))"
      ],
      "metadata": {
        "colab": {
          "base_uri": "https://localhost:8080/"
        },
        "id": "u9w2hpgNAY9W",
        "outputId": "9140aecd-44e9-41d0-e2a8-0d4478e31b90"
      },
      "execution_count": 42,
      "outputs": [
        {
          "output_type": "stream",
          "name": "stdout",
          "text": [
            "enter a no12\n",
            "The no is 12 <class 'int'>\n"
          ]
        }
      ]
    },
    {
      "cell_type": "code",
      "source": [
        "a=float(input(\"enter a no\"))\n",
        "print(\"The no is\",a,type(a))"
      ],
      "metadata": {
        "colab": {
          "base_uri": "https://localhost:8080/"
        },
        "id": "gdoT59uoA0F8",
        "outputId": "4132e2b9-905b-44c4-a8d8-9da9d3919f6c"
      },
      "execution_count": 43,
      "outputs": [
        {
          "output_type": "stream",
          "name": "stdout",
          "text": [
            "enter a no12\n",
            "The no is 12.0 <class 'float'>\n"
          ]
        }
      ]
    },
    {
      "cell_type": "code",
      "source": [
        "a=bool(input(\"enter a no\"))\n",
        "print(\"the no is\",a,type(a))"
      ],
      "metadata": {
        "colab": {
          "base_uri": "https://localhost:8080/"
        },
        "id": "BiiQRVkFBJ9T",
        "outputId": "879c6448-30fd-4af6-a1ef-1d561620a5b4"
      },
      "execution_count": 44,
      "outputs": [
        {
          "output_type": "stream",
          "name": "stdout",
          "text": [
            "enter a no12\n",
            "the no is True <class 'bool'>\n"
          ]
        }
      ]
    },
    {
      "cell_type": "markdown",
      "source": [
        "# Q10. Write code to demonstrate type casting with list elements"
      ],
      "metadata": {
        "id": "bAjSPcxsBhAe"
      }
    },
    {
      "cell_type": "code",
      "source": [
        "a=[12,24,15,\"ram\"]\n",
        "b= str(a)\n",
        "type(b)"
      ],
      "metadata": {
        "colab": {
          "base_uri": "https://localhost:8080/"
        },
        "id": "TTtSFnIaBsJZ",
        "outputId": "e77a614e-9bca-433c-a7c6-28f8b35c58b3"
      },
      "execution_count": 45,
      "outputs": [
        {
          "output_type": "execute_result",
          "data": {
            "text/plain": [
              "str"
            ]
          },
          "metadata": {},
          "execution_count": 45
        }
      ]
    },
    {
      "cell_type": "code",
      "source": [
        "type(a)"
      ],
      "metadata": {
        "colab": {
          "base_uri": "https://localhost:8080/"
        },
        "id": "6Rh0LwpzDwJR",
        "outputId": "28b1fbc8-74ab-4263-a017-ba2f0c677593"
      },
      "execution_count": 46,
      "outputs": [
        {
          "output_type": "execute_result",
          "data": {
            "text/plain": [
              "list"
            ]
          },
          "metadata": {},
          "execution_count": 46
        }
      ]
    },
    {
      "cell_type": "markdown",
      "source": [
        "# Q11. Write a program that checks if a number is positive, negative, or zero."
      ],
      "metadata": {
        "id": "S7cJbsVvD0HX"
      }
    },
    {
      "cell_type": "code",
      "source": [
        "a= int(input(\"enter a number\"))\n",
        "if a==0:\n",
        "  print(\"The number is Zero\")\n",
        "elif a<0:\n",
        "  print(\"The number is negetive\")\n",
        "else:\n",
        "  print(\"The number is Positive\")"
      ],
      "metadata": {
        "colab": {
          "base_uri": "https://localhost:8080/"
        },
        "id": "Q5yOq4m-EF0l",
        "outputId": "f0872258-f2e6-4cf5-f94c-4a54aa3ee9e3"
      },
      "execution_count": 48,
      "outputs": [
        {
          "output_type": "stream",
          "name": "stdout",
          "text": [
            "enter a number14\n",
            "The number is Positive\n"
          ]
        }
      ]
    },
    {
      "cell_type": "markdown",
      "source": [
        "# Q12. Write a for loop to print numbers from 1 to 10."
      ],
      "metadata": {
        "id": "gKZm0qvxE3F3"
      }
    },
    {
      "cell_type": "code",
      "source": [
        "for i in range(1,11):\n",
        "  print(i, end=\" \")"
      ],
      "metadata": {
        "colab": {
          "base_uri": "https://localhost:8080/"
        },
        "id": "s2DHVf1NFFoS",
        "outputId": "3135beaa-cfa1-4564-af0c-20f76295cbf8"
      },
      "execution_count": 49,
      "outputs": [
        {
          "output_type": "stream",
          "name": "stdout",
          "text": [
            "1 2 3 4 5 6 7 8 9 10 1 2 3 4 5 6 7 8 9 10 "
          ]
        }
      ]
    },
    {
      "cell_type": "markdown",
      "source": [
        "# Q13. Write a Python program to find the sum of all even numbers between 1 and 50."
      ],
      "metadata": {
        "id": "0x1caJAhFQZv"
      }
    },
    {
      "cell_type": "code",
      "source": [
        "num= int(input(\"enter a number:\"))\n",
        "sum= 0\n",
        "for i in range(0, num+1):\n",
        "  if i % 2== 0:\n",
        "    print(i)\n",
        "    sum+=i\n",
        "print(f\"sum of all the even numbers is {sum}\")"
      ],
      "metadata": {
        "colab": {
          "base_uri": "https://localhost:8080/"
        },
        "id": "lGW6PWKLKzOa",
        "outputId": "6655ca34-f831-41b7-d930-afd6f99c6841"
      },
      "execution_count": 56,
      "outputs": [
        {
          "output_type": "stream",
          "name": "stdout",
          "text": [
            "enter a number:50\n",
            "0\n",
            "2\n",
            "4\n",
            "6\n",
            "8\n",
            "10\n",
            "12\n",
            "14\n",
            "16\n",
            "18\n",
            "20\n",
            "22\n",
            "24\n",
            "26\n",
            "28\n",
            "30\n",
            "32\n",
            "34\n",
            "36\n",
            "38\n",
            "40\n",
            "42\n",
            "44\n",
            "46\n",
            "48\n",
            "50\n",
            "sum of all the even numbers is 650\n"
          ]
        }
      ]
    },
    {
      "cell_type": "markdown",
      "source": [
        "# Q14. Write a program to reverse a string using a while loop"
      ],
      "metadata": {
        "id": "DeQ9_0FUMHRK"
      }
    },
    {
      "cell_type": "code",
      "source": [
        "s= \"pwskills\"\n",
        "rev= s[::-1]\n",
        "print(rev)"
      ],
      "metadata": {
        "colab": {
          "base_uri": "https://localhost:8080/"
        },
        "id": "nm7q2H6jMOlP",
        "outputId": "5d7d6562-0585-44b9-ca51-bd662ae4d7d7"
      },
      "execution_count": 57,
      "outputs": [
        {
          "output_type": "stream",
          "name": "stdout",
          "text": [
            "sllikswp\n"
          ]
        }
      ]
    }
  ]
}